{
 "cells": [
  {
   "cell_type": "markdown",
   "id": "4ff1f6ad-6dac-44d2-b50a-37c343c462b3",
   "metadata": {
    "jp-MarkdownHeadingCollapsed": true
   },
   "source": [
    "<h1>Requirements</h1>"
   ]
  },
  {
   "cell_type": "code",
   "execution_count": 1,
   "id": "e0a6110e-d474-43e6-8ee5-3acc4058feee",
   "metadata": {},
   "outputs": [
    {
     "name": "stdout",
     "output_type": "stream",
     "text": [
      "Requirement already satisfied: seaborn in /home/amir/anaconda3/envs/tf_cv2/lib/python3.12/site-packages (0.13.2)\n",
      "Requirement already satisfied: numpy!=1.24.0,>=1.20 in /home/amir/anaconda3/envs/tf_cv2/lib/python3.12/site-packages (from seaborn) (1.26.4)\n",
      "Requirement already satisfied: pandas>=1.2 in /home/amir/anaconda3/envs/tf_cv2/lib/python3.12/site-packages (from seaborn) (2.2.3)\n",
      "Requirement already satisfied: matplotlib!=3.6.1,>=3.4 in /home/amir/anaconda3/envs/tf_cv2/lib/python3.12/site-packages (from seaborn) (3.9.2)\n",
      "Requirement already satisfied: contourpy>=1.0.1 in /home/amir/anaconda3/envs/tf_cv2/lib/python3.12/site-packages (from matplotlib!=3.6.1,>=3.4->seaborn) (1.3.1)\n",
      "Requirement already satisfied: cycler>=0.10 in /home/amir/anaconda3/envs/tf_cv2/lib/python3.12/site-packages (from matplotlib!=3.6.1,>=3.4->seaborn) (0.11.0)\n",
      "Requirement already satisfied: fonttools>=4.22.0 in /home/amir/anaconda3/envs/tf_cv2/lib/python3.12/site-packages (from matplotlib!=3.6.1,>=3.4->seaborn) (4.51.0)\n",
      "Requirement already satisfied: kiwisolver>=1.3.1 in /home/amir/anaconda3/envs/tf_cv2/lib/python3.12/site-packages (from matplotlib!=3.6.1,>=3.4->seaborn) (1.4.4)\n",
      "Requirement already satisfied: packaging>=20.0 in /home/amir/anaconda3/envs/tf_cv2/lib/python3.12/site-packages (from matplotlib!=3.6.1,>=3.4->seaborn) (24.2)\n",
      "Requirement already satisfied: pillow>=8 in /home/amir/anaconda3/envs/tf_cv2/lib/python3.12/site-packages (from matplotlib!=3.6.1,>=3.4->seaborn) (11.0.0)\n",
      "Requirement already satisfied: pyparsing>=2.3.1 in /home/amir/anaconda3/envs/tf_cv2/lib/python3.12/site-packages (from matplotlib!=3.6.1,>=3.4->seaborn) (3.2.0)\n",
      "Requirement already satisfied: python-dateutil>=2.7 in /home/amir/anaconda3/envs/tf_cv2/lib/python3.12/site-packages (from matplotlib!=3.6.1,>=3.4->seaborn) (2.9.0.post0)\n",
      "Requirement already satisfied: pytz>=2020.1 in /home/amir/anaconda3/envs/tf_cv2/lib/python3.12/site-packages (from pandas>=1.2->seaborn) (2024.1)\n",
      "Requirement already satisfied: tzdata>=2022.7 in /home/amir/anaconda3/envs/tf_cv2/lib/python3.12/site-packages (from pandas>=1.2->seaborn) (2023.3)\n",
      "Requirement already satisfied: six>=1.5 in /home/amir/anaconda3/envs/tf_cv2/lib/python3.12/site-packages (from python-dateutil>=2.7->matplotlib!=3.6.1,>=3.4->seaborn) (1.16.0)\n"
     ]
    }
   ],
   "source": [
    "!pip install seaborn"
   ]
  },
  {
   "cell_type": "markdown",
   "id": "19fa4e36-ab2a-417c-83d0-10dd5a8f7cca",
   "metadata": {
    "jp-MarkdownHeadingCollapsed": true
   },
   "source": [
    "<h1>Horner</h1>"
   ]
  },
  {
   "cell_type": "code",
   "execution_count": null,
   "id": "ab497a91-2416-49ba-bc52-7d9f6f9cadef",
   "metadata": {},
   "outputs": [],
   "source": []
  },
  {
   "cell_type": "markdown",
   "id": "a7fb950c-22ee-4bcc-894e-dc4a4a9c151f",
   "metadata": {
    "jp-MarkdownHeadingCollapsed": true
   },
   "source": [
    "<h1>Interpolations</h1>"
   ]
  },
  {
   "cell_type": "markdown",
   "id": "e7298dfe-d11c-4f86-9623-50e28551e501",
   "metadata": {
    "jp-MarkdownHeadingCollapsed": true
   },
   "source": [
    "<h2>Lagrange</h2>"
   ]
  },
  {
   "cell_type": "code",
   "execution_count": null,
   "id": "06368158-0388-4096-9947-abe2c72e77c0",
   "metadata": {},
   "outputs": [],
   "source": []
  },
  {
   "cell_type": "markdown",
   "id": "a96639a6-0225-475d-bc9f-18c37bb72cf9",
   "metadata": {
    "jp-MarkdownHeadingCollapsed": true
   },
   "source": [
    "<h2>Newton</h2>"
   ]
  },
  {
   "cell_type": "markdown",
   "id": "aee349e5-20ca-4c3c-8305-1ee41e0caf8a",
   "metadata": {
    "jp-MarkdownHeadingCollapsed": true
   },
   "source": [
    "<h3>Auto Newton</h3>"
   ]
  },
  {
   "cell_type": "code",
   "execution_count": null,
   "id": "9518d16d-afc1-408e-b56b-7acea25d9d80",
   "metadata": {},
   "outputs": [],
   "source": []
  },
  {
   "cell_type": "markdown",
   "id": "4f9d1c50-003a-4168-936c-d92f23c06e48",
   "metadata": {
    "jp-MarkdownHeadingCollapsed": true
   },
   "source": [
    "<h3>FiniteDifferences</h3>"
   ]
  },
  {
   "cell_type": "code",
   "execution_count": null,
   "id": "19846844-0286-4b31-9e25-d25ca785d763",
   "metadata": {},
   "outputs": [],
   "source": []
  },
  {
   "cell_type": "markdown",
   "id": "834cb48c-7a5e-467e-a599-0befb14cbec4",
   "metadata": {
    "jp-MarkdownHeadingCollapsed": true
   },
   "source": [
    "<h3>DividedDifferences</h3>"
   ]
  },
  {
   "cell_type": "code",
   "execution_count": null,
   "id": "19afca3a-b308-450b-afb1-4c76da02c463",
   "metadata": {},
   "outputs": [],
   "source": []
  },
  {
   "cell_type": "markdown",
   "id": "51a3da88-7e7d-4006-950d-51f6a6951533",
   "metadata": {
    "jp-MarkdownHeadingCollapsed": true
   },
   "source": [
    "<h2>CubicSpline</h2>"
   ]
  },
  {
   "cell_type": "code",
   "execution_count": null,
   "id": "58e6093f-e71f-4ec9-b359-8ffee5132917",
   "metadata": {},
   "outputs": [],
   "source": []
  },
  {
   "cell_type": "markdown",
   "id": "93df11ab-19d1-4fae-b739-804db0e00d41",
   "metadata": {
    "jp-MarkdownHeadingCollapsed": true
   },
   "source": [
    "<h2>LinearRegression</h2>"
   ]
  },
  {
   "cell_type": "code",
   "execution_count": null,
   "id": "b9e0bc6a-18bf-4452-b9a5-5367b893bedf",
   "metadata": {},
   "outputs": [],
   "source": []
  },
  {
   "cell_type": "markdown",
   "id": "02e3f8f7-a646-4bfc-9af4-299a7d6dcb1a",
   "metadata": {
    "jp-MarkdownHeadingCollapsed": true
   },
   "source": [
    "<h1>Derivative</h1>"
   ]
  },
  {
   "cell_type": "markdown",
   "id": "b9125986-3cbd-455e-a3f1-cc16be680ef9",
   "metadata": {},
   "source": [
    "<h2>NewtonDerivative</h2>"
   ]
  },
  {
   "cell_type": "code",
   "execution_count": null,
   "id": "58e2b934-6875-422b-adc2-c932ed0b621c",
   "metadata": {},
   "outputs": [],
   "source": []
  },
  {
   "cell_type": "markdown",
   "id": "cf95c235-9c7b-4da5-ba20-11690639da23",
   "metadata": {
    "jp-MarkdownHeadingCollapsed": true
   },
   "source": [
    "<h1>EquationSolvers</h1>"
   ]
  },
  {
   "cell_type": "markdown",
   "id": "4d33384c-5959-4487-803c-17d9e86300f2",
   "metadata": {
    "jp-MarkdownHeadingCollapsed": true
   },
   "source": [
    "<h2>Gauss Jacobi</h2>"
   ]
  },
  {
   "cell_type": "code",
   "execution_count": null,
   "id": "6bbc8e82-c50e-4890-a0bf-595fc6ca9053",
   "metadata": {},
   "outputs": [],
   "source": []
  },
  {
   "cell_type": "markdown",
   "id": "6b659d99-e44a-461e-aae4-649a9b410bb3",
   "metadata": {
    "jp-MarkdownHeadingCollapsed": true
   },
   "source": [
    "<h2>Gauss Seidel</h2>"
   ]
  },
  {
   "cell_type": "code",
   "execution_count": null,
   "id": "76589eb4-40ae-422b-8e05-d51301e46f6d",
   "metadata": {},
   "outputs": [],
   "source": []
  },
  {
   "cell_type": "markdown",
   "id": "ffb29765-8d7a-4def-a887-dbf16f0d6f30",
   "metadata": {
    "jp-MarkdownHeadingCollapsed": true
   },
   "source": [
    "<h1>Integral Calculators</h1>"
   ]
  },
  {
   "cell_type": "code",
   "execution_count": null,
   "id": "86adb6de-f9ab-4019-85f6-1cd7d064b6a2",
   "metadata": {},
   "outputs": [],
   "source": []
  }
 ],
 "metadata": {
  "kernelspec": {
   "display_name": "Python 3 (ipykernel)",
   "language": "python",
   "name": "python3"
  },
  "language_info": {
   "codemirror_mode": {
    "name": "ipython",
    "version": 3
   },
   "file_extension": ".py",
   "mimetype": "text/x-python",
   "name": "python",
   "nbconvert_exporter": "python",
   "pygments_lexer": "ipython3",
   "version": "3.12.8"
  }
 },
 "nbformat": 4,
 "nbformat_minor": 5
}
