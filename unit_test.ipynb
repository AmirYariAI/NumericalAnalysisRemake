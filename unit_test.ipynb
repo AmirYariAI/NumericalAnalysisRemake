{
 "cells": [
  {
   "cell_type": "markdown",
   "id": "4ff1f6ad-6dac-44d2-b50a-37c343c462b3",
   "metadata": {
    "jp-MarkdownHeadingCollapsed": true
   },
   "source": [
    "<h1>Requirements</h1>"
   ]
  },
  {
   "cell_type": "code",
   "execution_count": 1,
   "id": "d55b91e7-733d-49de-82e3-b2a0b4f1c1d0",
   "metadata": {},
   "outputs": [
    {
     "name": "stdout",
     "output_type": "stream",
     "text": [
      "Requirement already satisfied: matplotlib in /home/amir/anaconda3/envs/tf_cv2/lib/python3.12/site-packages (3.9.2)\n",
      "Requirement already satisfied: contourpy>=1.0.1 in /home/amir/anaconda3/envs/tf_cv2/lib/python3.12/site-packages (from matplotlib) (1.3.1)\n",
      "Requirement already satisfied: cycler>=0.10 in /home/amir/anaconda3/envs/tf_cv2/lib/python3.12/site-packages (from matplotlib) (0.11.0)\n",
      "Requirement already satisfied: fonttools>=4.22.0 in /home/amir/anaconda3/envs/tf_cv2/lib/python3.12/site-packages (from matplotlib) (4.51.0)\n",
      "Requirement already satisfied: kiwisolver>=1.3.1 in /home/amir/anaconda3/envs/tf_cv2/lib/python3.12/site-packages (from matplotlib) (1.4.4)\n",
      "Requirement already satisfied: numpy>=1.23 in /home/amir/anaconda3/envs/tf_cv2/lib/python3.12/site-packages (from matplotlib) (1.26.4)\n",
      "Requirement already satisfied: packaging>=20.0 in /home/amir/anaconda3/envs/tf_cv2/lib/python3.12/site-packages (from matplotlib) (24.2)\n",
      "Requirement already satisfied: pillow>=8 in /home/amir/anaconda3/envs/tf_cv2/lib/python3.12/site-packages (from matplotlib) (11.0.0)\n",
      "Requirement already satisfied: pyparsing>=2.3.1 in /home/amir/anaconda3/envs/tf_cv2/lib/python3.12/site-packages (from matplotlib) (3.2.0)\n",
      "Requirement already satisfied: python-dateutil>=2.7 in /home/amir/anaconda3/envs/tf_cv2/lib/python3.12/site-packages (from matplotlib) (2.9.0.post0)\n",
      "Requirement already satisfied: six>=1.5 in /home/amir/anaconda3/envs/tf_cv2/lib/python3.12/site-packages (from python-dateutil>=2.7->matplotlib) (1.16.0)\n"
     ]
    }
   ],
   "source": [
    "!pip install matplotlib"
   ]
  },
  {
   "cell_type": "code",
   "execution_count": 1,
   "id": "e0a6110e-d474-43e6-8ee5-3acc4058feee",
   "metadata": {},
   "outputs": [
    {
     "name": "stdout",
     "output_type": "stream",
     "text": [
      "Requirement already satisfied: seaborn in /home/amir/anaconda3/envs/tf_cv2/lib/python3.12/site-packages (0.13.2)\n",
      "Requirement already satisfied: numpy!=1.24.0,>=1.20 in /home/amir/anaconda3/envs/tf_cv2/lib/python3.12/site-packages (from seaborn) (1.26.4)\n",
      "Requirement already satisfied: pandas>=1.2 in /home/amir/anaconda3/envs/tf_cv2/lib/python3.12/site-packages (from seaborn) (2.2.3)\n",
      "Requirement already satisfied: matplotlib!=3.6.1,>=3.4 in /home/amir/anaconda3/envs/tf_cv2/lib/python3.12/site-packages (from seaborn) (3.9.2)\n",
      "Requirement already satisfied: contourpy>=1.0.1 in /home/amir/anaconda3/envs/tf_cv2/lib/python3.12/site-packages (from matplotlib!=3.6.1,>=3.4->seaborn) (1.3.1)\n",
      "Requirement already satisfied: cycler>=0.10 in /home/amir/anaconda3/envs/tf_cv2/lib/python3.12/site-packages (from matplotlib!=3.6.1,>=3.4->seaborn) (0.11.0)\n",
      "Requirement already satisfied: fonttools>=4.22.0 in /home/amir/anaconda3/envs/tf_cv2/lib/python3.12/site-packages (from matplotlib!=3.6.1,>=3.4->seaborn) (4.51.0)\n",
      "Requirement already satisfied: kiwisolver>=1.3.1 in /home/amir/anaconda3/envs/tf_cv2/lib/python3.12/site-packages (from matplotlib!=3.6.1,>=3.4->seaborn) (1.4.4)\n",
      "Requirement already satisfied: packaging>=20.0 in /home/amir/anaconda3/envs/tf_cv2/lib/python3.12/site-packages (from matplotlib!=3.6.1,>=3.4->seaborn) (24.2)\n",
      "Requirement already satisfied: pillow>=8 in /home/amir/anaconda3/envs/tf_cv2/lib/python3.12/site-packages (from matplotlib!=3.6.1,>=3.4->seaborn) (11.0.0)\n",
      "Requirement already satisfied: pyparsing>=2.3.1 in /home/amir/anaconda3/envs/tf_cv2/lib/python3.12/site-packages (from matplotlib!=3.6.1,>=3.4->seaborn) (3.2.0)\n",
      "Requirement already satisfied: python-dateutil>=2.7 in /home/amir/anaconda3/envs/tf_cv2/lib/python3.12/site-packages (from matplotlib!=3.6.1,>=3.4->seaborn) (2.9.0.post0)\n",
      "Requirement already satisfied: pytz>=2020.1 in /home/amir/anaconda3/envs/tf_cv2/lib/python3.12/site-packages (from pandas>=1.2->seaborn) (2024.1)\n",
      "Requirement already satisfied: tzdata>=2022.7 in /home/amir/anaconda3/envs/tf_cv2/lib/python3.12/site-packages (from pandas>=1.2->seaborn) (2023.3)\n",
      "Requirement already satisfied: six>=1.5 in /home/amir/anaconda3/envs/tf_cv2/lib/python3.12/site-packages (from python-dateutil>=2.7->matplotlib!=3.6.1,>=3.4->seaborn) (1.16.0)\n"
     ]
    }
   ],
   "source": [
    "!pip install seaborn"
   ]
  },
  {
   "cell_type": "markdown",
   "id": "d8c6ba96-aacd-4f2a-b1e7-97afbd38de91",
   "metadata": {
    "jp-MarkdownHeadingCollapsed": true
   },
   "source": [
    "<h1>Importing Modules</h1>"
   ]
  },
  {
   "cell_type": "code",
   "execution_count": 1,
   "id": "579a1993-95c7-46a7-bead-e053ef8feaad",
   "metadata": {},
   "outputs": [],
   "source": [
    "# base modules\n",
    "import math\n",
    "import random\n",
    "import time\n",
    "from DebugAssistant import *\n",
    "\n",
    "#plotting\n",
    "import matplotlib.pyplot as plt\n",
    "import seaborn as sns\n",
    "\n",
    "#horner\n",
    "from Old_Format.horner import Horner_method , Normal_method\n",
    "\n",
    "#Interpolations\n",
    "from Interpolations import Lagrange\n",
    "from Interpolations import Newton\n",
    "from Interpolations import CubicSpline\n",
    "from Interpolations import LinearRegression\n",
    "\n",
    "#Derivative\n",
    "from Derivatives import NewtonDerivative\n",
    "\n",
    "#EquationSolvers\n",
    "from EquationSolvers import EquationSolvers\n",
    "\n",
    "#Integral Calculators\n"
   ]
  },
  {
   "cell_type": "markdown",
   "id": "3c0cb7aa-73f6-47e0-a620-7907117e678d",
   "metadata": {
    "jp-MarkdownHeadingCollapsed": true
   },
   "source": [
    "<h1>Test Functions</h1>"
   ]
  },
  {
   "cell_type": "code",
   "execution_count": 3,
   "id": "a07ffcab-65ff-443a-b44b-b3564feb0c01",
   "metadata": {},
   "outputs": [],
   "source": [
    "def linspace(start : float,end : float,n : int):\n",
    "    \n",
    "    if start > end :\n",
    "        raise ValueError(f\"input is invalid\")\n",
    "\n",
    "    h = (end - start) / n\n",
    "\n",
    "    values = []\n",
    "    for i in range(n + 1):\n",
    "        value = round(start + i * h,5)\n",
    "        values.append(value)\n",
    "    \n",
    "    return values"
   ]
  },
  {
   "cell_type": "code",
   "execution_count": 4,
   "id": "0d252c9f-cf1e-4800-a66f-0a8c54ac153e",
   "metadata": {},
   "outputs": [],
   "source": [
    "def arange(start : float,end : float,step : float):\n",
    "    \n",
    "    if start > end :\n",
    "        raise ValueError(f\"input is invalid\")\n",
    "\n",
    "    values = []\n",
    "    value = start\n",
    "\n",
    "    while value <= end:\n",
    "        values.append(value)\n",
    "        value = round(value + step , 5)\n",
    "    \n",
    "    return values"
   ]
  },
  {
   "cell_type": "markdown",
   "id": "19fa4e36-ab2a-417c-83d0-10dd5a8f7cca",
   "metadata": {
    "jp-MarkdownHeadingCollapsed": true
   },
   "source": [
    "<h1>Horner Method</h1>"
   ]
  },
  {
   "cell_type": "markdown",
   "id": "e23f5c70-63a4-41d4-a7ee-e6dadc7d3848",
   "metadata": {},
   "source": [
    "<p> p(x) = 123.78*x^5 + 12*x^4 + 23*x^3 + 3*x^2 + 5*x^1 + 10 </p>"
   ]
  },
  {
   "cell_type": "code",
   "execution_count": 37,
   "id": "ab497a91-2416-49ba-bc52-7d9f6f9cadef",
   "metadata": {},
   "outputs": [],
   "source": [
    "factors = [ 10 , 5 , 3 , 23 , 12 , 123.78]\n",
    "x = 1024"
   ]
  },
  {
   "cell_type": "code",
   "execution_count": 39,
   "id": "721773f5-7166-41b8-87ed-0f28f72ed2af",
   "metadata": {},
   "outputs": [
    {
     "name": "stdout",
     "output_type": "stream",
     "text": [
      "p(1024) = 1.3937710930772613e+17\n",
      "time : 0.5003435611724854 s\n"
     ]
    }
   ],
   "source": [
    "start = time.time()\n",
    "\n",
    "p_x = Normal_method(factors,x)\n",
    "\n",
    "end = time.time()\n",
    "\n",
    "print(f\"p({x}) = {p_x}\")\n",
    "print(f\"time : {end - start} s\")"
   ]
  },
  {
   "cell_type": "code",
   "execution_count": 41,
   "id": "1812d4e7-da66-406c-9ec8-c927648f309f",
   "metadata": {},
   "outputs": [
    {
     "name": "stdout",
     "output_type": "stream",
     "text": [
      "p(1024) = 1.3937710930772613e+17\n",
      "time : 0.5003125667572021 s\n"
     ]
    }
   ],
   "source": [
    "start = time.time()\n",
    "\n",
    "p_x = Horner_method(factors,x)\n",
    "\n",
    "end = time.time()\n",
    "\n",
    "print(f\"p({x}) = {p_x}\")\n",
    "print(f\"time : {end - start} s\")"
   ]
  },
  {
   "cell_type": "markdown",
   "id": "a7fb950c-22ee-4bcc-894e-dc4a4a9c151f",
   "metadata": {},
   "source": [
    "<h1>Interpolations</h1>"
   ]
  },
  {
   "cell_type": "markdown",
   "id": "e7298dfe-d11c-4f86-9623-50e28551e501",
   "metadata": {
    "jp-MarkdownHeadingCollapsed": true
   },
   "source": [
    "<h2>Lagrange</h2>"
   ]
  },
  {
   "cell_type": "code",
   "execution_count": 9,
   "id": "06368158-0388-4096-9947-abe2c72e77c0",
   "metadata": {},
   "outputs": [],
   "source": [
    "x_points = [-1 , 0 , 2 , 3 ,  6] \n",
    "f_points = [ 1 , 0 , 4 , 9 , 36]"
   ]
  },
  {
   "cell_type": "code",
   "execution_count": 10,
   "id": "77c12e8e-5e0f-439b-8cbf-83ed918aaaa9",
   "metadata": {},
   "outputs": [],
   "source": [
    "lagrange = Lagrange(x_points,f_points)"
   ]
  },
  {
   "cell_type": "code",
   "execution_count": 12,
   "id": "8d3fcaa6-a48e-4f8c-87cf-e2b88d89104d",
   "metadata": {},
   "outputs": [
    {
     "name": "stdout",
     "output_type": "stream",
     "text": [
      "->> Lagrange Interpolation for p(5.241002542455425):\n",
      "(-0.3439514355)*1 + (0.9556830886)*0 + (-2.3181426566)*4 + (2.2350432007)*9 + (0.4713678029)*36 = 27.4681076488\n",
      "p(5.241002542455425) = 27.4681076488\n",
      "time : 0.000637054443359375 s\n"
     ]
    }
   ],
   "source": [
    "start = time.time()\n",
    "\n",
    "x = random.uniform(lagrange.MinX,lagrange.MaxX)\n",
    "p_x = lagrange(x)\n",
    "\n",
    "end = time.time()\n",
    "\n",
    "print(f\"p({x}) = {p_x}\")\n",
    "print(f\"time : {end - start} s\")"
   ]
  },
  {
   "cell_type": "code",
   "execution_count": 15,
   "id": "8930c534-6925-4618-84c8-cfc6bfd46c3e",
   "metadata": {},
   "outputs": [],
   "source": [
    "debug_off()\n",
    "\n",
    "plot_data_x = arange(lagrange.MinX,lagrange.MaxX, 0.1)\n",
    "plot_data_y = list(map(lagrange,plot_data_x))\n",
    "\n",
    "debug_on()"
   ]
  },
  {
   "cell_type": "code",
   "execution_count": 20,
   "id": "a2535293-6695-40ac-bb9c-0fcaf3ca03fc",
   "metadata": {},
   "outputs": [
    {
     "data": {
      "image/png": "[encoded data removed]",
      "text/plain": [
       "<Figure size 640x480 with 1 Axes>"
      ]
     },
     "metadata": {},
     "output_type": "display_data"
    }
   ],
   "source": [
    "plt.plot(plot_data_x,plot_data_y)\n",
    "plt.plot(x_points,f_points,'.',ms=12)\n",
    "plt.show()"
   ]
  },
  {
   "cell_type": "markdown",
   "id": "a96639a6-0225-475d-bc9f-18c37bb72cf9",
   "metadata": {
    "jp-MarkdownHeadingCollapsed": true
   },
   "source": [
    "<h2>Newton</h2>"
   ]
  },
  {
   "cell_type": "markdown",
   "id": "4f9d1c50-003a-4168-936c-d92f23c06e48",
   "metadata": {
    "jp-MarkdownHeadingCollapsed": true
   },
   "source": [
    "<h3>Finite Differences</h3>"
   ]
  },
  {
   "cell_type": "code",
   "execution_count": 24,
   "id": "19846844-0286-4b31-9e25-d25ca785d763",
   "metadata": {},
   "outputs": [],
   "source": [
    "x_points = [-1 ,  0 ,  1 , 2 , 3]\n",
    "f_points = [-1 , -2 , -1 , 2 , 7]\n",
    "is_forward = True"
   ]
  },
  {
   "cell_type": "code",
   "execution_count": 26,
   "id": "064987c6-740b-409c-8e44-31ebd7a84c0f",
   "metadata": {},
   "outputs": [
    {
     "name": "stdout",
     "output_type": "stream",
     "text": [
      "                           -( Finite Differences Table )-                           \n",
      "Δ^i f(x)\\ Xi |      -1     |      0      |      1      |      2      |      3      |\n",
      "     f(x)    |     (-1)    ↓      -2     ↓      -1     ↓      2      ↓      7      \n",
      "   Δ^1 f(x)  |            (-1)    ↓      1      ↓      3      ↓      5      \n",
      "   Δ^2 f(x)  |                   (2)     ↓      2      ↓      2      \n",
      "   Δ^3 f(x)  |                          (0)     ↓      0      \n",
      "   Δ^4 f(x)  |                                 (0)     \n"
     ]
    }
   ],
   "source": [
    "finite_differences = Newton(x_points,f_points,is_forward=is_forward)\n",
    "#finite_differences = Newton.FiniteDifferences(x_points,f_points,is_forward=is_forward)"
   ]
  },
  {
   "cell_type": "code",
   "execution_count": 28,
   "id": "51d3838d-ad8e-4285-96ca-d0d306b50b03",
   "metadata": {},
   "outputs": [
    {
     "name": "stdout",
     "output_type": "stream",
     "text": [
      "p(2.782727928395564) = -1 + -1 * (3.7827279284) + 2 * (5.2631513259486775) + 0 * (3.1275889533880665) + 0 * (0.6120128055930414) = 5.7435747235\n",
      "p(2.782727928395564) = 5.7435747235\n",
      "time : 0.00034236907958984375 s\n"
     ]
    }
   ],
   "source": [
    "start = time.time()\n",
    "\n",
    "x = random.uniform(finite_differences.MinX,finite_differences.MaxX)\n",
    "p_x = finite_differences(x)\n",
    "\n",
    "end = time.time()\n",
    "\n",
    "print(f\"p({x}) = {p_x}\")\n",
    "print(f\"time : {end - start} s\")"
   ]
  },
  {
   "cell_type": "code",
   "execution_count": 30,
   "id": "dd9e1751-e277-4dd5-9eed-149f77010ea6",
   "metadata": {},
   "outputs": [],
   "source": [
    "debug_off()\n",
    "\n",
    "plot_data_x = arange(finite_differences.MinX,finite_differences.MaxX, 0.1)\n",
    "plot_data_y = list(map(finite_differences,plot_data_x))\n",
    "\n",
    "debug_on()"
   ]
  },
  {
   "cell_type": "code",
   "execution_count": 32,
   "id": "a023479a-7413-4c02-abe4-cfa928fa55d2",
   "metadata": {},
   "outputs": [
    {
     "data": {
      "image/png": "[encoded data removed]",
      "text/plain": [
       "<Figure size 640x480 with 1 Axes>"
      ]
     },
     "metadata": {},
     "output_type": "display_data"
    }
   ],
   "source": [
    "plt.plot(plot_data_x,plot_data_y)\n",
    "plt.plot(x_points,f_points,'.',ms=12)\n",
    "plt.show()"
   ]
  },
  {
   "cell_type": "markdown",
   "id": "834cb48c-7a5e-467e-a599-0befb14cbec4",
   "metadata": {
    "jp-MarkdownHeadingCollapsed": true
   },
   "source": [
    "<h3>Divided Differences</h3>"
   ]
  },
  {
   "cell_type": "code",
   "execution_count": 35,
   "id": "fb11d466-b8af-4817-82e3-35f7ff661f4d",
   "metadata": {},
   "outputs": [],
   "source": [
    "x_points = [-1 ,  0 ,  2 ,   5 ,   6]\n",
    "f_points = [-1 ,  0 ,  8 , 125 , 216]\n",
    "is_forward = True"
   ]
  },
  {
   "cell_type": "code",
   "execution_count": 37,
   "id": "e71f9e1d-45a7-45d8-9810-60bc50476b4f",
   "metadata": {},
   "outputs": [
    {
     "name": "stdout",
     "output_type": "stream",
     "text": [
      "                              -( Divided Differences Table )-                              \n",
      " f[xi,...,xi+k] \\Xi |      -1     |      0      |      2      |      5      |      6      |\n",
      "        f(x)        |     (-1)    ↓      0      ↓      8      ↓     125     ↓     216     \n",
      "   f[xi,...xi+1]    |           (1.0)    ↓     4.0     ↓     39.0    ↓     91.0    \n",
      "   f[xi,...xi+2]    |                  (1.0)    ↓     7.0     ↓     13.0    \n",
      "   f[xi,...xi+3]    |                         (1.0)    ↓     1.0     \n",
      "   f[xi,...xi+4]    |                                (0.0)    \n"
     ]
    }
   ],
   "source": [
    "divided_differences = Newton(x_points,f_points,is_forward=is_forward)\n",
    "#divided_differences = Newton.DividedDifferences(x_points,f_points,is_forward=is_forward)"
   ]
  },
  {
   "cell_type": "code",
   "execution_count": 39,
   "id": "b4f4a6a9-b1ca-4c89-bee7-bd814b05ac34",
   "metadata": {},
   "outputs": [
    {
     "name": "stdout",
     "output_type": "stream",
     "text": [
      "p(0.3382226534357722) = -1 + 91.0 * (1.3382226534) + 13.0 * (0.45261721667293653) + 1.0 * (-0.7521490373482298) + 0.0 * (3.506351343576975) = 0.03869083279999985\n",
      "p(0.3382226534357722) = 0.03869083279999985\n",
      "time : 0.0002727508544921875 s\n"
     ]
    }
   ],
   "source": [
    "start = time.time()\n",
    "\n",
    "x = random.uniform(divided_differences.MinX,divided_differences.MaxX)\n",
    "p_x = divided_differences(x)\n",
    "\n",
    "end = time.time()\n",
    "\n",
    "print(f\"p({x}) = {p_x}\")\n",
    "print(f\"time : {end - start} s\")"
   ]
  },
  {
   "cell_type": "code",
   "execution_count": 41,
   "id": "59e0b4e3-f3b0-40df-99e3-ae7bcfc02bc8",
   "metadata": {},
   "outputs": [],
   "source": [
    "debug_off()\n",
    "\n",
    "plot_data_x = arange(divided_differences.MinX,divided_differences.MaxX, 0.1)\n",
    "plot_data_y = list(map(divided_differences,plot_data_x))\n",
    "\n",
    "debug_on()"
   ]
  },
  {
   "cell_type": "code",
   "execution_count": 43,
   "id": "4d4a7593-ef5f-427e-a30f-9f32801bd4b0",
   "metadata": {},
   "outputs": [
    {
     "data": {
      "image/png": "[encoded data removed]",
      "text/plain": [
       "<Figure size 640x480 with 1 Axes>"
      ]
     },
     "metadata": {},
     "output_type": "display_data"
    }
   ],
   "source": [
    "plt.plot(plot_data_x,plot_data_y)\n",
    "plt.plot(x_points,f_points,'.',ms=12)\n",
    "plt.show()"
   ]
  },
  {
   "cell_type": "markdown",
   "id": "51a3da88-7e7d-4006-950d-51f6a6951533",
   "metadata": {
    "jp-MarkdownHeadingCollapsed": true
   },
   "source": [
    "<h2>Cubic Spline</h2>"
   ]
  },
  {
   "cell_type": "code",
   "execution_count": 49,
   "id": "58e6093f-e71f-4ec9-b359-8ffee5132917",
   "metadata": {},
   "outputs": [],
   "source": [
    "x_points = [0 , 0.05 , 0.1]\n",
    "f_points = [1 , 2    , 3  ]"
   ]
  },
  {
   "cell_type": "code",
   "execution_count": 51,
   "id": "f7b093bc-ac1c-431b-a3aa-fe6ff483eb1e",
   "metadata": {},
   "outputs": [
    {
     "name": "stdout",
     "output_type": "stream",
     "text": [
      "Spline Polynomials :\n",
      "0 => S(x) = (1) + (20.0) * (x - 0) + (0) * (x - 0)^2 + (0.0) * (x - 0)^3                                         , x in [0 , 0.05]\n",
      "1 => S(x) = (2) + (20.0) * (x - 0.05) + (0) * (x - 0.05)^2 + (0.0) * (x - 0.05)^3                                , x in [0.05 , 0.1]\n"
     ]
    }
   ],
   "source": [
    "cubic_spline = CubicSpline(x_points,f_points)"
   ]
  },
  {
   "cell_type": "code",
   "execution_count": 53,
   "id": "6da66316-5ded-4226-9557-e564c37f709f",
   "metadata": {},
   "outputs": [
    {
     "name": "stdout",
     "output_type": "stream",
     "text": [
      "0 => S(0.02688661390200149) = (1) + (20.0) * (0.02688661390200149 - 0) + (0) * (0.02688661390200149 - 0)^2 + (0.0) * (0.02688661390200149 - 0)^3  = 1.537732278\n",
      "p(0.02688661390200149) = 1.537732278\n",
      "time : 0.0003643035888671875 s\n"
     ]
    }
   ],
   "source": [
    "start = time.time()\n",
    "\n",
    "x = random.uniform(cubic_spline.MinX,cubic_spline.MaxX)\n",
    "p_x = cubic_spline(x)\n",
    "\n",
    "end = time.time()\n",
    "\n",
    "print(f\"p({x}) = {p_x}\")\n",
    "print(f\"time : {end - start} s\")"
   ]
  },
  {
   "cell_type": "code",
   "execution_count": 55,
   "id": "88155f3e-1b3e-4f4f-8765-f0626deda86b",
   "metadata": {},
   "outputs": [],
   "source": [
    "debug_off()\n",
    "\n",
    "plot_data_x = arange(cubic_spline.MinX,cubic_spline.MaxX, 0.1)\n",
    "plot_data_y = list(map(cubic_spline,plot_data_x))\n",
    "\n",
    "debug_on()"
   ]
  },
  {
   "cell_type": "code",
   "execution_count": 57,
   "id": "5d3219a5-1f4d-41f1-9aee-e566eb6b0d3d",
   "metadata": {},
   "outputs": [
    {
     "data": {
      "image/png": "[encoded data removed]",
      "text/plain": [
       "<Figure size 640x480 with 1 Axes>"
      ]
     },
     "metadata": {},
     "output_type": "display_data"
    }
   ],
   "source": [
    "plt.plot(plot_data_x,plot_data_y)\n",
    "plt.plot(x_points,f_points,'.',ms=12)\n",
    "plt.show()"
   ]
  },
  {
   "cell_type": "markdown",
   "id": "93df11ab-19d1-4fae-b739-804db0e00d41",
   "metadata": {
    "jp-MarkdownHeadingCollapsed": true
   },
   "source": [
    "<h2>Linear Regression</h2>"
   ]
  },
  {
   "cell_type": "code",
   "execution_count": 124,
   "id": "b9e0bc6a-18bf-4452-b9a5-5367b893bedf",
   "metadata": {},
   "outputs": [],
   "source": [
    "x_points = linspace(0,10,50)\n",
    "\n",
    "f_x = lambda x : x**2 * random.uniform(0.70,1.3)\n",
    "\n",
    "f_points = [f_x(x) for x in x_points]\n",
    "k = 2"
   ]
  },
  {
   "cell_type": "code",
   "execution_count": 126,
   "id": "9a1dd571-54f0-49fc-95c0-1567c7a7d6d2",
   "metadata": {},
   "outputs": [
    {
     "name": "stdout",
     "output_type": "stream",
     "text": [
      "f(x) = 1.0561005333 * x^2 + -0.1686028699 * x + 0.067665639  ,MSE : 40.4006927989\n"
     ]
    }
   ],
   "source": [
    "linear_regression = LinearRegression(x_points,f_points,k=k)"
   ]
  },
  {
   "cell_type": "code",
   "execution_count": 128,
   "id": "7e7828cd-eed0-4622-aaee-7d0533d0564d",
   "metadata": {},
   "outputs": [
    {
     "name": "stdout",
     "output_type": "stream",
     "text": [
      "f(5.6025437460209275) = 1.0561005333 * 5.6025437460209275^2 + -0.1686028699 * 5.6025437460209275 + 0.067665639 = 32.2724684998\n",
      "p(5.6025437460209275) = 32.2724684998\n",
      "time : 0.00036644935607910156 s\n"
     ]
    }
   ],
   "source": [
    "start = time.time()\n",
    "\n",
    "x = random.uniform(linear_regression.MinX,linear_regression.MaxX)\n",
    "p_x = linear_regression(x)\n",
    "\n",
    "end = time.time()\n",
    "\n",
    "print(f\"p({x}) = {p_x}\")\n",
    "print(f\"time : {end - start} s\")"
   ]
  },
  {
   "cell_type": "code",
   "execution_count": 130,
   "id": "887f69aa-215f-4823-af84-4ecf7df0e8e2",
   "metadata": {},
   "outputs": [],
   "source": [
    "debug_off()\n",
    "\n",
    "plot_data_x = arange(linear_regression.MinX,linear_regression.MaxX, 0.1)\n",
    "plot_data_y = list(map(linear_regression,plot_data_x))\n",
    "\n",
    "debug_on()"
   ]
  },
  {
   "cell_type": "code",
   "execution_count": 132,
   "id": "a8063c50-8189-4e54-9a93-7666ae7d2fcd",
   "metadata": {},
   "outputs": [
    {
     "data": {
      "image/png": "[encoded data removed]",
      "text/plain": [
       "<Figure size 640x480 with 1 Axes>"
      ]
     },
     "metadata": {},
     "output_type": "display_data"
    }
   ],
   "source": [
    "plt.plot(plot_data_x,plot_data_y)\n",
    "plt.plot(x_points,f_points,'.',ms=12)\n",
    "plt.show()"
   ]
  },
  {
   "cell_type": "markdown",
   "id": "02e3f8f7-a646-4bfc-9af4-299a7d6dcb1a",
   "metadata": {},
   "source": [
    "<h1>Derivatives</h1>"
   ]
  },
  {
   "cell_type": "markdown",
   "id": "b9125986-3cbd-455e-a3f1-cc16be680ef9",
   "metadata": {
    "jp-MarkdownHeadingCollapsed": true
   },
   "source": [
    "<h2>Newton Derivative</h2>"
   ]
  },
  {
   "cell_type": "code",
   "execution_count": 50,
   "id": "58e2b934-6875-422b-adc2-c932ed0b621c",
   "metadata": {},
   "outputs": [],
   "source": [
    "x_points = [ 0.1 , 0.2 , 0.3 , 0.4]\n",
    "f_points = [-1   , 2   , 3   , 5]"
   ]
  },
  {
   "cell_type": "code",
   "execution_count": 52,
   "id": "a965de24-d215-4e48-8aba-ba0255123a31",
   "metadata": {},
   "outputs": [],
   "source": [
    "newton_derivative = NewtonDerivative(x_points,f_points)"
   ]
  },
  {
   "cell_type": "code",
   "execution_count": 66,
   "id": "d05810b2-8a1f-4b99-b521-68d897930c65",
   "metadata": {},
   "outputs": [
    {
     "name": "stdout",
     "output_type": "stream",
     "text": [
      "p'( 0.1 ) =( 3 * (1.0) + -2 * (-0.5) + 3 * (0.3333333333) ) * (10.0)= 49.999999999 (step : 3)\n",
      "                  -( Finite Differences Table )-                  \n",
      "Δ^i f(x)\\ Xi |    0.1     |    0.2     |    0.3     |    0.4     |\n",
      "     f(x)    |     -1     ↓     2      ↓     3      ↓     5      \n",
      "   Δ^1 f(x)  |           (3)     ↓     1      ↓     2      \n",
      "   Δ^2 f(x)  |                  (-2)    ↓     1      \n",
      "   Δ^3 f(x)  |                         (3)     \n",
      "p'(0.1) = 49.999999999\n",
      "time : 0.0013518333435058594 s\n"
     ]
    }
   ],
   "source": [
    "start = time.time()\n",
    "\n",
    "x = 0.1\n",
    "p_x = newton_derivative(x,step = -1)\n",
    "\n",
    "end = time.time()\n",
    "\n",
    "print(f\"p'({x}) = {p_x}\")\n",
    "print(f\"time : {end - start} s\")"
   ]
  },
  {
   "cell_type": "code",
   "execution_count": 68,
   "id": "dc66c306-90a1-4134-9e45-159de49e876c",
   "metadata": {},
   "outputs": [
    {
     "name": "stdout",
     "output_type": "stream",
     "text": [
      "p'( 0.2 ) =( 3 * (1.0) + -2 * (0.5) + 3 * (-0.1666666667) ) * (10.0)= 14.999999999 (step : 3)\n",
      "                  -( Finite Differences Table )-                  \n",
      "Δ^i f(x)\\ Xi |    0.1     |    0.2     |    0.3     |    0.4     |\n",
      "     f(x)    |     -1     ↓     2      ↓     3      ↓     5      \n",
      "   Δ^1 f(x)  |           (3)     ↓     1      ↓     2      \n",
      "   Δ^2 f(x)  |                  (-2)    ↓     1      \n",
      "   Δ^3 f(x)  |                         (3)     \n",
      "p'(0.1 + h) = 14.999999999\n",
      "time : 0.002607107162475586 s\n"
     ]
    }
   ],
   "source": [
    "start = time.time()\n",
    "\n",
    "x = 0.1\n",
    "p_x = newton_derivative.predict_next_step(x,step = -1)\n",
    "\n",
    "end = time.time()\n",
    "\n",
    "print(f\"p'({x} + h) = {p_x}\")\n",
    "print(f\"time : {end - start} s\")"
   ]
  },
  {
   "cell_type": "code",
   "execution_count": 72,
   "id": "ad13c324-32c1-40b0-b4fa-8d6380ad61b2",
   "metadata": {},
   "outputs": [
    {
     "name": "stdout",
     "output_type": "stream",
     "text": [
      "p'( 0.15 ) =( 3 * (1.0) + -2 * (0.0) + 3 * (-0.0416666667) ) * (10.0)= 28.749999999 (step : 3)\n",
      "                  -( Finite Differences Table )-                  \n",
      "Δ^i f(x)\\ Xi |    0.1     |    0.2     |    0.3     |    0.4     |\n",
      "     f(x)    |     -1     ↓     2      ↓     3      ↓     5      \n",
      "   Δ^1 f(x)  |           (3)     ↓     1      ↓     2      \n",
      "   Δ^2 f(x)  |                  (-2)    ↓     1      \n",
      "   Δ^3 f(x)  |                         (3)     \n",
      "p'(0.1 + h/2) = 28.749999999\n",
      "time : 0.0011136531829833984 s\n"
     ]
    }
   ],
   "source": [
    "start = time.time()\n",
    "\n",
    "x = 0.1\n",
    "p_x = newton_derivative.predict_next_half_step(x,step = -1)\n",
    "\n",
    "end = time.time()\n",
    "\n",
    "print(f\"p'({x} + h/2) = {p_x}\")\n",
    "print(f\"time : {end - start} s\")"
   ]
  },
  {
   "cell_type": "markdown",
   "id": "cf95c235-9c7b-4da5-ba20-11690639da23",
   "metadata": {
    "jp-MarkdownHeadingCollapsed": true
   },
   "source": [
    "<h1>Equation Solvers</h1>"
   ]
  },
  {
   "cell_type": "markdown",
   "id": "c8a10f41-dda4-42a3-a1e6-645b2a6e266d",
   "metadata": {},
   "source": [
    "<p>4*x0 +   x1 + 2*x2 = 4</p></br>\n",
    "<p>3*x0 + 5*x1 + x2 = 7</p></br>\n",
    "<p>x0 +   x1 + 3*x2 = 3</p></br>"
   ]
  },
  {
   "cell_type": "markdown",
   "id": "4d33384c-5959-4487-803c-17d9e86300f2",
   "metadata": {
    "jp-MarkdownHeadingCollapsed": true
   },
   "source": [
    "<h2>Gauss Jacobi</h2>"
   ]
  },
  {
   "cell_type": "code",
   "execution_count": 92,
   "id": "6bbc8e82-c50e-4890-a0bf-595fc6ca9053",
   "metadata": {},
   "outputs": [],
   "source": [
    "a         = [[4 , 1 , 2],\n",
    "             [3 , 5 , 1],\n",
    "             [1 , 1 , 3]]\n",
    "\n",
    "b         =  [4 , 7 , 3]\n",
    "starter_x =  [0 , 0 , 0]\n"
   ]
  },
  {
   "cell_type": "code",
   "execution_count": 108,
   "id": "f6f44675-3935-46bf-b921-d0d373d8ded0",
   "metadata": {},
   "outputs": [
    {
     "name": "stdout",
     "output_type": "stream",
     "text": [
      "                             -( Gauss–Jacobi Table )-                               \n",
      "iteration \\ X |       X0      |       X1      |       X2      |   mean error  | note \n",
      " iteration 0  |       0       |       0       |       0       |  4.6666666667 | \n",
      " iteration 1  |      1.0      |      1.4      |  0.9999999999 |       3.0     | \n",
      " iteration 2  |  0.1500000001 |      0.6      |      0.2      |  2.3333333333 | \n",
      " iteration 3  |      0.75     |  1.2699999999 |  0.7499999999 |  1.6666666667 | \n",
      " iteration 4  |  0.3075000001 |      0.8      |  0.3266666667 |  1.3333333333 | \n",
      " iteration 5  |  0.6366666667 |  1.1501666666 |  0.6308333332 |       1.0     | \n",
      " iteration 6  |  0.3970416667 |  0.8918333333 |  0.4043888889 |  0.6666666667 | \n",
      " iteration 7  |  0.5748472222 |  1.0808972222 |  0.5703749999 |  0.6666666667 | \n",
      " iteration 8  |  0.4445881945 |  0.9410166667 |  0.4480851852 |  0.3333333333 | \n",
      " iteration 9  |  0.5407032407 |  1.0436300463 |  0.5381317129 |       0.0     | \n",
      "\n",
      "Results = [0.5407032407, 1.0436300463, 0.5381317129]\n"
     ]
    }
   ],
   "source": [
    "answer_x = EquationSolvers.gauss_jacobi(a,starter_x,b,max_iteration = 20)\n",
    "print()\n",
    "print(f\"Results = {answer_x}\")"
   ]
  },
  {
   "cell_type": "markdown",
   "id": "6b659d99-e44a-461e-aae4-649a9b410bb3",
   "metadata": {
    "jp-MarkdownHeadingCollapsed": true
   },
   "source": [
    "<h2>Gauss Seidel</h2>"
   ]
  },
  {
   "cell_type": "code",
   "execution_count": 111,
   "id": "8970a51b-cec6-4ffd-81ea-a4774c8365fc",
   "metadata": {},
   "outputs": [],
   "source": [
    "a         = [[4 , 1 , 2],\n",
    "             [3 , 5 , 1],\n",
    "             [1 , 1 , 3]]\n",
    "\n",
    "b         =  [4 , 7 , 3]\n",
    "starter_x =  [0 , 0 , 0]"
   ]
  },
  {
   "cell_type": "code",
   "execution_count": 113,
   "id": "76589eb4-40ae-422b-8e05-d51301e46f6d",
   "metadata": {},
   "outputs": [
    {
     "name": "stdout",
     "output_type": "stream",
     "text": [
      "                             -( Gauss–Seidel Table )-                               \n",
      "iteration \\ X |       X0      |       X1      |       X2      |   mean error  | note \n",
      " iteration 0  |       0       |       0       |       0       |  4.6666666667 | \n",
      " iteration 1  |      1.0      |      0.8      |      0.4      |  0.6666666667 | \n",
      " iteration 2  |      0.6      |      0.96     |      0.48     |       0.0     | \n",
      "\n",
      "Results = [0.6, 0.96, 0.48]\n"
     ]
    }
   ],
   "source": [
    "answer_x = EquationSolvers.gauss_seidel(a,starter_x,b,max_iteration = 20)\n",
    "print()\n",
    "print(f\"Results = {answer_x}\")"
   ]
  },
  {
   "cell_type": "markdown",
   "id": "ffb29765-8d7a-4def-a887-dbf16f0d6f30",
   "metadata": {},
   "source": [
    "<h1>Integral Calculators</h1>"
   ]
  },
  {
   "cell_type": "code",
   "execution_count": null,
   "id": "86adb6de-f9ab-4019-85f6-1cd7d064b6a2",
   "metadata": {},
   "outputs": [],
   "source": []
  }
 ],
 "metadata": {
  "kernelspec": {
   "display_name": "Python [conda env:tf_cv2]",
   "language": "python",
   "name": "conda-env-tf_cv2-py"
  },
  "language_info": {
   "codemirror_mode": {
    "name": "ipython",
    "version": 3
   },
   "file_extension": ".py",
   "mimetype": "text/x-python",
   "name": "python",
   "nbconvert_exporter": "python",
   "pygments_lexer": "ipython3",
   "version": "3.12.8"
  }
 },
 "nbformat": 4,
 "nbformat_minor": 5
}
