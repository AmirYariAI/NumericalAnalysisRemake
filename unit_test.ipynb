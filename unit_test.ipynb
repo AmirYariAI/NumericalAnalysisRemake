{
 "cells": [
  {
   "cell_type": "markdown",
   "id": "4ff1f6ad-6dac-44d2-b50a-37c343c462b3",
   "metadata": {
    "jp-MarkdownHeadingCollapsed": true
   },
   "source": [
    "<h1>Requirements</h1>"
   ]
  },
  {
   "cell_type": "code",
   "execution_count": 1,
   "id": "e0a6110e-d474-43e6-8ee5-3acc4058feee",
   "metadata": {},
   "outputs": [
    {
     "name": "stdout",
     "output_type": "stream",
     "text": [
      "Requirement already satisfied: seaborn in /home/amir/anaconda3/envs/tf_cv2/lib/python3.12/site-packages (0.13.2)\n",
      "Requirement already satisfied: numpy!=1.24.0,>=1.20 in /home/amir/anaconda3/envs/tf_cv2/lib/python3.12/site-packages (from seaborn) (1.26.4)\n",
      "Requirement already satisfied: pandas>=1.2 in /home/amir/anaconda3/envs/tf_cv2/lib/python3.12/site-packages (from seaborn) (2.2.3)\n",
      "Requirement already satisfied: matplotlib!=3.6.1,>=3.4 in /home/amir/anaconda3/envs/tf_cv2/lib/python3.12/site-packages (from seaborn) (3.9.2)\n",
      "Requirement already satisfied: contourpy>=1.0.1 in /home/amir/anaconda3/envs/tf_cv2/lib/python3.12/site-packages (from matplotlib!=3.6.1,>=3.4->seaborn) (1.3.1)\n",
      "Requirement already satisfied: cycler>=0.10 in /home/amir/anaconda3/envs/tf_cv2/lib/python3.12/site-packages (from matplotlib!=3.6.1,>=3.4->seaborn) (0.11.0)\n",
      "Requirement already satisfied: fonttools>=4.22.0 in /home/amir/anaconda3/envs/tf_cv2/lib/python3.12/site-packages (from matplotlib!=3.6.1,>=3.4->seaborn) (4.51.0)\n",
      "Requirement already satisfied: kiwisolver>=1.3.1 in /home/amir/anaconda3/envs/tf_cv2/lib/python3.12/site-packages (from matplotlib!=3.6.1,>=3.4->seaborn) (1.4.4)\n",
      "Requirement already satisfied: packaging>=20.0 in /home/amir/anaconda3/envs/tf_cv2/lib/python3.12/site-packages (from matplotlib!=3.6.1,>=3.4->seaborn) (24.2)\n",
      "Requirement already satisfied: pillow>=8 in /home/amir/anaconda3/envs/tf_cv2/lib/python3.12/site-packages (from matplotlib!=3.6.1,>=3.4->seaborn) (11.0.0)\n",
      "Requirement already satisfied: pyparsing>=2.3.1 in /home/amir/anaconda3/envs/tf_cv2/lib/python3.12/site-packages (from matplotlib!=3.6.1,>=3.4->seaborn) (3.2.0)\n",
      "Requirement already satisfied: python-dateutil>=2.7 in /home/amir/anaconda3/envs/tf_cv2/lib/python3.12/site-packages (from matplotlib!=3.6.1,>=3.4->seaborn) (2.9.0.post0)\n",
      "Requirement already satisfied: pytz>=2020.1 in /home/amir/anaconda3/envs/tf_cv2/lib/python3.12/site-packages (from pandas>=1.2->seaborn) (2024.1)\n",
      "Requirement already satisfied: tzdata>=2022.7 in /home/amir/anaconda3/envs/tf_cv2/lib/python3.12/site-packages (from pandas>=1.2->seaborn) (2023.3)\n",
      "Requirement already satisfied: six>=1.5 in /home/amir/anaconda3/envs/tf_cv2/lib/python3.12/site-packages (from python-dateutil>=2.7->matplotlib!=3.6.1,>=3.4->seaborn) (1.16.0)\n"
     ]
    }
   ],
   "source": [
    "!pip install seaborn"
   ]
  },
  {
   "cell_type": "markdown",
   "id": "d8c6ba96-aacd-4f2a-b1e7-97afbd38de91",
   "metadata": {
    "jp-MarkdownHeadingCollapsed": true
   },
   "source": [
    "<h1>Importing Modules</h1>"
   ]
  },
  {
   "cell_type": "code",
   "execution_count": 82,
   "id": "579a1993-95c7-46a7-bead-e053ef8feaad",
   "metadata": {},
   "outputs": [],
   "source": [
    "# base modules\n",
    "import math\n",
    "import random\n",
    "import time\n",
    "from DebugAssistant import *\n",
    "\n",
    "#plotting\n",
    "import matplotlib.pyplot as plt\n",
    "import seaborn as sns\n",
    "\n",
    "#horner\n",
    "\n",
    "#Interpolations\n",
    "from Interpolations import Lagrange\n",
    "from Interpolations import Newton\n",
    "from Interpolations import CubicSpline\n",
    "from Interpolations import LinearRegression\n",
    "\n",
    "#Derivative\n",
    "from Derivatives import NewtonDerivative\n",
    "\n",
    "#EquationSolvers\n",
    "from EquationSolvers import EquationSolvers\n",
    "\n",
    "#Integral Calculators\n"
   ]
  },
  {
   "cell_type": "markdown",
   "id": "3c0cb7aa-73f6-47e0-a620-7907117e678d",
   "metadata": {
    "jp-MarkdownHeadingCollapsed": true
   },
   "source": [
    "<h1>Test Functions</h1>"
   ]
  },
  {
   "cell_type": "code",
   "execution_count": 26,
   "id": "a07ffcab-65ff-443a-b44b-b3564feb0c01",
   "metadata": {},
   "outputs": [],
   "source": [
    "def linspace(start : float,end : float,n : int):\n",
    "    \n",
    "    if start > end :\n",
    "        raise ValueError(f\"input is invalid\")\n",
    "\n",
    "    h = (end - start) / n\n",
    "\n",
    "    values = []\n",
    "    for i in range(n + 1):\n",
    "        value = round(start + i * h,5)\n",
    "        values.append(value)\n",
    "    \n",
    "    return values"
   ]
  },
  {
   "cell_type": "code",
   "execution_count": 27,
   "id": "0d252c9f-cf1e-4800-a66f-0a8c54ac153e",
   "metadata": {},
   "outputs": [],
   "source": [
    "def arange(start : float,end : float,step : float):\n",
    "    \n",
    "    if start > end :\n",
    "        raise ValueError(f\"input is invalid\")\n",
    "\n",
    "    values = []\n",
    "    value = start\n",
    "\n",
    "    while value <= end:\n",
    "        values.append(value)\n",
    "        value = round(value + step , 5)\n",
    "    \n",
    "    return values"
   ]
  },
  {
   "cell_type": "markdown",
   "id": "19fa4e36-ab2a-417c-83d0-10dd5a8f7cca",
   "metadata": {
    "jp-MarkdownHeadingCollapsed": true
   },
   "source": [
    "<h1>Horner</h1>"
   ]
  },
  {
   "cell_type": "code",
   "execution_count": null,
   "id": "ab497a91-2416-49ba-bc52-7d9f6f9cadef",
   "metadata": {},
   "outputs": [],
   "source": []
  },
  {
   "cell_type": "markdown",
   "id": "a7fb950c-22ee-4bcc-894e-dc4a4a9c151f",
   "metadata": {},
   "source": [
    "<h1>Interpolations</h1>"
   ]
  },
  {
   "cell_type": "markdown",
   "id": "e7298dfe-d11c-4f86-9623-50e28551e501",
   "metadata": {
    "jp-MarkdownHeadingCollapsed": true
   },
   "source": [
    "<h2>Lagrange</h2>"
   ]
  },
  {
   "cell_type": "code",
   "execution_count": 98,
   "id": "06368158-0388-4096-9947-abe2c72e77c0",
   "metadata": {},
   "outputs": [],
   "source": [
    "x_points = [-1 , 0 , 2 , 3 ,  6] \n",
    "f_points = [ 1 , 0 , 4 , 9 , 36]"
   ]
  },
  {
   "cell_type": "code",
   "execution_count": 99,
   "id": "77c12e8e-5e0f-439b-8cbf-83ed918aaaa9",
   "metadata": {},
   "outputs": [],
   "source": [
    "lagrange = Lagrange(x_points,f_points)"
   ]
  },
  {
   "cell_type": "code",
   "execution_count": 100,
   "id": "8d3fcaa6-a48e-4f8c-87cf-e2b88d89104d",
   "metadata": {},
   "outputs": [
    {
     "name": "stdout",
     "output_type": "stream",
     "text": [
      "->> Lagrange Interpolation for p(2.2500518979895197):\n",
      "(0.0188364854)*1 + (-0.0634854816)*0 + (0.856895885)*4 + (0.190474018)*9 + (-0.0027209068)*36 = 5.0627335426\n",
      "p(2.2500518979895197) = 5.0627335426\n",
      "time : 0.0004394054412841797 s\n"
     ]
    }
   ],
   "source": [
    "start = time.time()\n",
    "\n",
    "x = random.uniform(lagrange.MinX,lagrange.MaxX)\n",
    "p_x = lagrange(x)\n",
    "\n",
    "end = time.time()\n",
    "\n",
    "print(f\"p({x}) = {p_x}\")\n",
    "print(f\"time : {end - start} s\")"
   ]
  },
  {
   "cell_type": "code",
   "execution_count": 101,
   "id": "8930c534-6925-4618-84c8-cfc6bfd46c3e",
   "metadata": {},
   "outputs": [],
   "source": [
    "debug_off()\n",
    "\n",
    "plot_data_x = arange(lagrange.MinX,lagrange.MaxX, 0.1)\n",
    "plot_data_y = list(map(lagrange,plot_data_x))\n",
    "\n",
    "debug_on()"
   ]
  },
  {
   "cell_type": "code",
   "execution_count": 102,
   "id": "a2535293-6695-40ac-bb9c-0fcaf3ca03fc",
   "metadata": {},
   "outputs": [
    {
     "data": {
      "image/png": "[encoded data removed]",
      "text/plain": [
       "<Figure size 640x480 with 1 Axes>"
      ]
     },
     "metadata": {},
     "output_type": "display_data"
    }
   ],
   "source": [
    "plt.plot(plot_data_x,plot_data_y)\n",
    "plt.plot(x_points,f_points,'.',ms=12)\n",
    "plt.show()"
   ]
  },
  {
   "cell_type": "markdown",
   "id": "a96639a6-0225-475d-bc9f-18c37bb72cf9",
   "metadata": {},
   "source": [
    "<h2>Newton</h2>"
   ]
  },
  {
   "cell_type": "markdown",
   "id": "aee349e5-20ca-4c3c-8305-1ee41e0caf8a",
   "metadata": {
    "jp-MarkdownHeadingCollapsed": true
   },
   "source": [
    "<h3>Auto Newton</h3>"
   ]
  },
  {
   "cell_type": "code",
   "execution_count": null,
   "id": "9518d16d-afc1-408e-b56b-7acea25d9d80",
   "metadata": {},
   "outputs": [],
   "source": []
  },
  {
   "cell_type": "markdown",
   "id": "4f9d1c50-003a-4168-936c-d92f23c06e48",
   "metadata": {
    "jp-MarkdownHeadingCollapsed": true
   },
   "source": [
    "<h3>Finite Differences</h3>"
   ]
  },
  {
   "cell_type": "code",
   "execution_count": 73,
   "id": "19846844-0286-4b31-9e25-d25ca785d763",
   "metadata": {},
   "outputs": [],
   "source": [
    "x_points = [-1 ,  0 ,  1 , 2 , 3]\n",
    "f_points = [-1 , -2 , -1 , 2 , 7]"
   ]
  },
  {
   "cell_type": "code",
   "execution_count": 74,
   "id": "064987c6-740b-409c-8e44-31ebd7a84c0f",
   "metadata": {},
   "outputs": [
    {
     "name": "stdout",
     "output_type": "stream",
     "text": [
      "                           -( Finite Differences Table )-                           \n",
      "Δ^i f(x)\\ Xi |      -1     |      0      |      1      |      2      |      3      |\n",
      "     f(x)    |     (-1)    ↓      -2     ↓      -1     ↓      2      ↓      7      \n",
      "   Δ^1 f(x)  |            (-1)    ↓      1      ↓      3      ↓      5      \n",
      "   Δ^2 f(x)  |                   (2)     ↓      2      ↓      2      \n",
      "   Δ^3 f(x)  |                          (0)     ↓      0      \n",
      "   Δ^4 f(x)  |                                 (0)     \n"
     ]
    }
   ],
   "source": [
    "finite_differences = Newton.FiniteDifferences(x_points,f_points)"
   ]
  },
  {
   "cell_type": "code",
   "execution_count": 86,
   "id": "51d3838d-ad8e-4285-96ca-d0d306b50b03",
   "metadata": {},
   "outputs": [
    {
     "name": "stdout",
     "output_type": "stream",
     "text": [
      "p(0.1073601222006908) = -1 + -1 * (1.1073601222) + 2 * (0.05944315901939947) + 0 * (-0.017687111399059464) + 0 * (0.008368833088353367) = -1.9884738042000003\n",
      "p(0.1073601222006908) = -1.9884738042000003\n",
      "time : 0.0005795955657958984 s\n"
     ]
    }
   ],
   "source": [
    "start = time.time()\n",
    "\n",
    "x = random.uniform(finite_differences.MinX,finite_differences.MaxX)\n",
    "p_x = finite_differences(x)\n",
    "\n",
    "end = time.time()\n",
    "\n",
    "print(f\"p({x}) = {p_x}\")\n",
    "print(f\"time : {end - start} s\")"
   ]
  },
  {
   "cell_type": "code",
   "execution_count": 71,
   "id": "dd9e1751-e277-4dd5-9eed-149f77010ea6",
   "metadata": {},
   "outputs": [],
   "source": [
    "debug_off()\n",
    "\n",
    "plot_data_x = arange(finite_differences.MinX,finite_differences.MaxX, 0.1)\n",
    "plot_data_y = list(map(finite_differences,plot_data_x))\n",
    "\n",
    "debug_on()"
   ]
  },
  {
   "cell_type": "code",
   "execution_count": 76,
   "id": "a023479a-7413-4c02-abe4-cfa928fa55d2",
   "metadata": {},
   "outputs": [
    {
     "data": {
      "image/png": "[encoded data removed]",
      "text/plain": [
       "<Figure size 640x480 with 1 Axes>"
      ]
     },
     "metadata": {},
     "output_type": "display_data"
    }
   ],
   "source": [
    "plt.plot(plot_data_x,plot_data_y)\n",
    "plt.plot(x_points,f_points,'.',ms=12)\n",
    "plt.show()"
   ]
  },
  {
   "cell_type": "markdown",
   "id": "834cb48c-7a5e-467e-a599-0befb14cbec4",
   "metadata": {},
   "source": [
    "<h3>Divided Differences</h3>"
   ]
  },
  {
   "cell_type": "code",
   "execution_count": null,
   "id": "fb11d466-b8af-4817-82e3-35f7ff661f4d",
   "metadata": {},
   "outputs": [],
   "source": []
  },
  {
   "cell_type": "markdown",
   "id": "51a3da88-7e7d-4006-950d-51f6a6951533",
   "metadata": {},
   "source": [
    "<h2>Cubic Spline</h2>"
   ]
  },
  {
   "cell_type": "code",
   "execution_count": null,
   "id": "58e6093f-e71f-4ec9-b359-8ffee5132917",
   "metadata": {},
   "outputs": [],
   "source": []
  },
  {
   "cell_type": "markdown",
   "id": "93df11ab-19d1-4fae-b739-804db0e00d41",
   "metadata": {},
   "source": [
    "<h2>Linear Regression</h2>"
   ]
  },
  {
   "cell_type": "code",
   "execution_count": null,
   "id": "b9e0bc6a-18bf-4452-b9a5-5367b893bedf",
   "metadata": {},
   "outputs": [],
   "source": []
  },
  {
   "cell_type": "markdown",
   "id": "02e3f8f7-a646-4bfc-9af4-299a7d6dcb1a",
   "metadata": {},
   "source": [
    "<h1>Derivatives</h1>"
   ]
  },
  {
   "cell_type": "markdown",
   "id": "b9125986-3cbd-455e-a3f1-cc16be680ef9",
   "metadata": {},
   "source": [
    "<h2>Newton Derivative</h2>"
   ]
  },
  {
   "cell_type": "code",
   "execution_count": null,
   "id": "58e2b934-6875-422b-adc2-c932ed0b621c",
   "metadata": {},
   "outputs": [],
   "source": []
  },
  {
   "cell_type": "markdown",
   "id": "cf95c235-9c7b-4da5-ba20-11690639da23",
   "metadata": {
    "jp-MarkdownHeadingCollapsed": true
   },
   "source": [
    "<h1>Equation Solvers</h1>"
   ]
  },
  {
   "cell_type": "markdown",
   "id": "4d33384c-5959-4487-803c-17d9e86300f2",
   "metadata": {
    "jp-MarkdownHeadingCollapsed": true
   },
   "source": [
    "<h2>Gauss Jacobi</h2>"
   ]
  },
  {
   "cell_type": "code",
   "execution_count": null,
   "id": "6bbc8e82-c50e-4890-a0bf-595fc6ca9053",
   "metadata": {},
   "outputs": [],
   "source": []
  },
  {
   "cell_type": "markdown",
   "id": "6b659d99-e44a-461e-aae4-649a9b410bb3",
   "metadata": {
    "jp-MarkdownHeadingCollapsed": true
   },
   "source": [
    "<h2>Gauss Seidel</h2>"
   ]
  },
  {
   "cell_type": "code",
   "execution_count": null,
   "id": "76589eb4-40ae-422b-8e05-d51301e46f6d",
   "metadata": {},
   "outputs": [],
   "source": []
  },
  {
   "cell_type": "markdown",
   "id": "ffb29765-8d7a-4def-a887-dbf16f0d6f30",
   "metadata": {},
   "source": [
    "<h1>Integral Calculators</h1>"
   ]
  },
  {
   "cell_type": "code",
   "execution_count": null,
   "id": "86adb6de-f9ab-4019-85f6-1cd7d064b6a2",
   "metadata": {},
   "outputs": [],
   "source": []
  }
 ],
 "metadata": {
  "kernelspec": {
   "display_name": "Python 3 (ipykernel)",
   "language": "python",
   "name": "python3"
  },
  "language_info": {
   "codemirror_mode": {
    "name": "ipython",
    "version": 3
   },
   "file_extension": ".py",
   "mimetype": "text/x-python",
   "name": "python",
   "nbconvert_exporter": "python",
   "pygments_lexer": "ipython3",
   "version": "3.12.8"
  }
 },
 "nbformat": 4,
 "nbformat_minor": 5
}
